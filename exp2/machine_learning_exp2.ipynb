{
 "cells": [
  {
   "cell_type": "markdown",
   "id": "4b09812f",
   "metadata": {},
   "source": [
    "# PartI：构建决策树、使用决策树"
   ]
  },
  {
   "cell_type": "markdown",
   "id": "17a77812",
   "metadata": {},
   "source": [
    "#### **1 预测隐形眼镜类型**\n",
    "\n",
    "使用lenses.txt中的隐形眼镜数据集，采用第三章中介绍的ID3算法构建决策树。\n",
    "    \n",
    "使用决策树，输入几组隐形眼镜特征数据，\n",
    "    \n",
    "例如：'young','hyper','no','reduced'，'pre','hyper','no','normal'；等进行测试，预测隐形眼镜类型。 \n"
   ]
  },
  {
   "cell_type": "code",
   "execution_count": 1,
   "id": "3944b7fc",
   "metadata": {
    "ExecuteTime": {
     "end_time": "2021-10-16T16:43:42.897454Z",
     "start_time": "2021-10-16T16:43:41.375788Z"
    },
    "code_folding": [
     9,
     19,
     33,
     42,
     61,
     72,
     90,
     102,
     115,
     129,
     140,
     150,
     175
    ]
   },
   "outputs": [],
   "source": [
    "import math\n",
    "import matplotlib.pyplot as plt\n",
    "\n",
    "'''决策树显示时的图形定义'''\n",
    "decision_node = dict(boxstyle=\"sawtooth\", fc=\"1\")\n",
    "leaf_node = dict(boxstyle=\"round4\", fc=\"0.8\")\n",
    "arrow_args = dict(arrowstyle=\"<-\")\n",
    "\n",
    "'''从txt读取数据集到列表'''\n",
    "def load_dataset(path):\n",
    "    file_to_line = open(path).readlines()  #从lenses.txt读取行数据到变量\n",
    "    number_of_lines = len(file_to_line)  #得到文件的行数\n",
    "    dataset = []  #数据集\n",
    "    for line in file_to_line:  #遍历行，读取为列表\n",
    "        line = line.strip()\n",
    "        list_from_line = line.split('\\t')\n",
    "        dataset.append(list_from_line)\n",
    "    return dataset\n",
    "'''计算信息熵，返回熵值'''\n",
    "def shannon_entropy(dataset):\n",
    "    num = len(dataset)  #数据的个数\n",
    "    label_count = {}  # 利用字典存储每个种类的数量\n",
    "    for item in dataset:\n",
    "        current_label = item[-1]\n",
    "        if current_label not in label_count.keys():  #若种类没被统计过，则加入字典\n",
    "            label_count[current_label] = 0\n",
    "        label_count[current_label] += 1\n",
    "    shannon_ent = 0.0\n",
    "    for key in label_count:\n",
    "        prob = float(label_count[key]) / num\n",
    "        shannon_ent -= prob * math.log(prob, 2)  #  H = - sigma(p*log(p))\n",
    "    return shannon_ent\n",
    "'''按照特定特征划分数据集'''\n",
    "def split_dataset(dataset, axis, value):\n",
    "    splited_dataset = []  #划分后的数据集\n",
    "    for feature in dataset:\n",
    "        if feature[axis] == value:\n",
    "            reduced_feature = feature[:axis]\n",
    "            reduced_feature.extend(feature[axis + 1:])\n",
    "            splited_dataset.append(reduced_feature)\n",
    "    return splited_dataset\n",
    "'''选择划分数据集的方式，主要是选择划分的特征'''\n",
    "def get_best_feature(dataset):\n",
    "    feature_num = len(dataset[0]) - 1  # 获得数据集特征数量\n",
    "    base_entropy = shannon_entropy(dataset)  # 原始的信息熵\n",
    "    best_info_gain = 0\n",
    "    best_feature = -1\n",
    "    for i in range(feature_num):\n",
    "        feature_list = [fea[i] for fea in dataset]\n",
    "        new_entropy = 0\n",
    "        vals = set(feature_list)  # vals为一个不重复的特征集合\n",
    "        for value in vals:  #对vals集合中的每个种类计算信息熵，累加\n",
    "            sub_dataset = split_dataset(dataset, i, value)\n",
    "            prob = len(sub_dataset) / float(len(dataset))\n",
    "            new_entropy += prob * shannon_entropy(sub_dataset)\n",
    "        info_gain = base_entropy - new_entropy\n",
    "        if (info_gain > best_info_gain):  # 取信息增益最大的特征为最佳特征\n",
    "            best_info_gain = info_gain\n",
    "            best_feature = i\n",
    "    return best_feature\n",
    "'''采用多数表决的方法对类标签不唯一的叶子节点进行定义'''\n",
    "def majority_cnt(class_list):\n",
    "    class_count = {}\n",
    "    for vote in class_list:\n",
    "        if vote not in class_count.keys():\n",
    "            class_count[vote] = 0\n",
    "        class_count[vote] += 1\n",
    "    sorted_class_count = sorted(class_count.iteritems(),\n",
    "                                key=operator.itemgetter(1),\n",
    "                                reverse=True)\n",
    "    return sorted_class_count[0][0]\n",
    "'''创建决策树'''\n",
    "def create_tree(dataset, label):\n",
    "    class_list = [item[-1] for item in dataset]\n",
    "    if class_list.count(class_list[0]) == len(class_list):\n",
    "        return class_list[0]  #类别完全相同时，不再划分\n",
    "    if len(dataset[0]) == 1:\n",
    "        return majority_cnt(class_list)  #特征遍历完返回种类最多的类别\n",
    "    best_feature = get_best_feature(dataset)\n",
    "    best_feature_label = label[best_feature]\n",
    "    my_tree = {best_feature_label: {}}\n",
    "    del (label[best_feature])\n",
    "    feature_values = [example[best_feature] for example in dataset]\n",
    "    vals = set(feature_values)\n",
    "    for value in vals:\n",
    "        sub_label = label[:]  #复制属性\n",
    "        my_tree[best_feature_label][value] = create_tree(\n",
    "            split_dataset(dataset, best_feature, value), sub_label)\n",
    "    return my_tree\n",
    "'''测试决策树'''\n",
    "def classify(input_tree, feature_label, test_vector):\n",
    "    first_str = list(input_tree.keys())[0]\n",
    "    second_dict = input_tree[first_str]\n",
    "    feat_index = feature_label.index(first_str)\n",
    "    key = test_vector[feat_index]\n",
    "    value_of_feature = second_dict[key]\n",
    "    if isinstance(value_of_feature, dict):\n",
    "        class_label = classify(value_of_feature, feature_label, test_vector)\n",
    "    else:\n",
    "        class_label = value_of_feature\n",
    "    return class_label\n",
    "'''获取叶节点的数量'''\n",
    "def get_num_leafs(my_tree):\n",
    "    num_leafs = 0\n",
    "    first_str = list(my_tree.keys())[0]\n",
    "    second_dict = my_tree[first_str]\n",
    "    for key in second_dict.keys():\n",
    "        if type(\n",
    "                second_dict[key]\n",
    "        ).__name__ == 'dict':  #test to see if the nodes are dictonaires, if not they are leaf nodes\n",
    "            num_leafs += get_num_leafs(second_dict[key])\n",
    "        else:\n",
    "            num_leafs += 1\n",
    "    return num_leafs\n",
    "'''获取树的深度'''\n",
    "def get_tree_depth(my_tree):\n",
    "    max_depth = 0\n",
    "    first_str = list(my_tree.keys())[0]\n",
    "    second_dict = my_tree[first_str]\n",
    "    for key in second_dict.keys():\n",
    "        if type(\n",
    "                second_dict[key]\n",
    "        ).__name__ == 'dict':  #test to see if the nodes are dictonaires, if not they are leaf nodes\n",
    "            this_depth = 1 + get_tree_depth(second_dict[key])\n",
    "        else:\n",
    "            this_depth = 1\n",
    "        if this_depth > max_depth: max_depth = this_depth\n",
    "    return max_depth\n",
    "'''节点的标签'''\n",
    "def plot_node(node_txt, center_pt, parent_pt, node_type):\n",
    "    create_plot.ax1.annotate(node_txt,\n",
    "                             xy=parent_pt,\n",
    "                             xycoords='axes fraction',\n",
    "                             xytext=center_pt,\n",
    "                             textcoords='axes fraction',\n",
    "                             va=\"center\",\n",
    "                             ha=\"center\",\n",
    "                             bbox=node_type,\n",
    "                             arrowprops=arrow_args)\n",
    "'''树的标签'''\n",
    "def plot_mid_text(cntr_pt, parent_pt, txt_string):\n",
    "    x_mid = (parent_pt[0] - cntr_pt[0]) / 2.0 + cntr_pt[0]\n",
    "    y_mid = (parent_pt[1] - cntr_pt[1]) / 2.0 + cntr_pt[1]\n",
    "    create_plot.ax1.text(x_mid,\n",
    "                         y_mid,\n",
    "                         txt_string,\n",
    "                         va=\"center\",\n",
    "                         ha=\"center\",\n",
    "                         rotation=30)\n",
    "'''绘制决策树'''\n",
    "def plot_tree(my_tree, parent_pt,node_txt):  #if the first key tells you what feat was split on\n",
    "    num_leafs = get_num_leafs(\n",
    "        my_tree)  #this determines the x width of this tree\n",
    "    depth = get_tree_depth(my_tree)\n",
    "    first_str = list(\n",
    "        my_tree.keys())[0]  #the text label for this node should be this\n",
    "    cntr_pt = (plot_tree.xOff +\n",
    "               (1.0 + float(num_leafs)) / 2.0 / plot_tree.totalW,\n",
    "               plot_tree.yOff)\n",
    "    plot_mid_text(cntr_pt, parent_pt, node_txt)\n",
    "    plot_node(first_str, cntr_pt, parent_pt, decision_node)\n",
    "    second_dict = my_tree[first_str]\n",
    "    plot_tree.yOff = plot_tree.yOff - 1.0 / plot_tree.totalD\n",
    "    for key in second_dict.keys():\n",
    "        if type(\n",
    "                second_dict[key]\n",
    "        ).__name__ == 'dict':  #test to see if the nodes are dictonaires, if not they are leaf nodes\n",
    "            plot_tree(second_dict[key], cntr_pt, str(key))  #recursion\n",
    "        else:  #it's a leaf node print the leaf node\n",
    "            plot_tree.xOff = plot_tree.xOff + 1.0 / plot_tree.totalW\n",
    "            plot_node(second_dict[key], (plot_tree.xOff, plot_tree.yOff),\n",
    "                      cntr_pt, leaf_node)\n",
    "            plot_mid_text((plot_tree.xOff, plot_tree.yOff), cntr_pt, str(key))\n",
    "    plot_tree.yOff = plot_tree.yOff + 1.0 / plot_tree.totalD\n",
    "'''显示绘制的决策树'''\n",
    "def create_plot(in_tree):\n",
    "    fig = plt.figure(figsize=(10,10), facecolor='white')\n",
    "    fig.clf()\n",
    "    axprops = dict(xticks=[], yticks=[])\n",
    "    create_plot.ax1 = plt.subplot(111, frameon=False, **axprops)  #no ticks\n",
    "    plot_tree.totalW = float(get_num_leafs(in_tree))\n",
    "    plot_tree.totalD = float(get_tree_depth(in_tree))\n",
    "    plot_tree.xOff = -0.5 / plot_tree.totalW\n",
    "    plot_tree.yOff = 1.0\n",
    "    plot_tree(in_tree, (0.5, 1.0), '')\n",
    "    plt.show()"
   ]
  },
  {
   "cell_type": "code",
   "execution_count": 2,
   "id": "3e08fb94",
   "metadata": {
    "ExecuteTime": {
     "end_time": "2021-10-16T16:43:42.913448Z",
     "start_time": "2021-10-16T16:43:42.899497Z"
    },
    "scrolled": true
   },
   "outputs": [
    {
     "data": {
      "text/plain": [
       "[['young', 'myope', 'no', 'reduced', 'no lenses'],\n",
       " ['young', 'myope', 'no', 'normal', 'soft'],\n",
       " ['young', 'myope', 'yes', 'reduced', 'no lenses'],\n",
       " ['young', 'myope', 'yes', 'normal', 'hard'],\n",
       " ['young', 'hyper', 'no', 'reduced', 'no lenses'],\n",
       " ['young', 'hyper', 'no', 'normal', 'soft'],\n",
       " ['young', 'hyper', 'yes', 'reduced', 'no lenses'],\n",
       " ['young', 'hyper', 'yes', 'normal', 'hard'],\n",
       " ['pre', 'myope', 'no', 'reduced', 'no lenses'],\n",
       " ['pre', 'myope', 'no', 'normal', 'soft'],\n",
       " ['pre', 'myope', 'yes', 'reduced', 'no lenses'],\n",
       " ['pre', 'myope', 'yes', 'normal', 'hard'],\n",
       " ['pre', 'hyper', 'no', 'reduced', 'no lenses'],\n",
       " ['pre', 'hyper', 'no', 'normal', 'soft'],\n",
       " ['pre', 'hyper', 'yes', 'reduced', 'no lenses'],\n",
       " ['pre', 'hyper', 'yes', 'normal', 'no lenses'],\n",
       " ['presbyopic', 'myope', 'no', 'reduced', 'no lenses'],\n",
       " ['presbyopic', 'myope', 'no', 'normal', 'no lenses'],\n",
       " ['presbyopic', 'myope', 'yes', 'reduced', 'no lenses'],\n",
       " ['presbyopic', 'myope', 'yes', 'normal', 'hard'],\n",
       " ['presbyopic', 'hyper', 'no', 'reduced', 'no lenses'],\n",
       " ['presbyopic', 'hyper', 'no', 'normal', 'soft'],\n",
       " ['presbyopic', 'hyper', 'yes', 'reduced', 'no lenses'],\n",
       " ['presbyopic', 'hyper', 'yes', 'normal', 'no lenses']]"
      ]
     },
     "execution_count": 2,
     "metadata": {},
     "output_type": "execute_result"
    }
   ],
   "source": [
    "dataset = load_dataset('lenses.txt')  #加载数据集\n",
    "dataset"
   ]
  },
  {
   "cell_type": "code",
   "execution_count": 3,
   "id": "9f707177",
   "metadata": {
    "ExecuteTime": {
     "end_time": "2021-10-16T16:43:42.929373Z",
     "start_time": "2021-10-16T16:43:42.914436Z"
    }
   },
   "outputs": [
    {
     "data": {
      "text/plain": [
       "{'tear rate': {'reduced': 'no lenses',\n",
       "  'normal': {'astigmatic': {'no': {'age': {'young': 'soft',\n",
       "      'pre': 'soft',\n",
       "      'presbyopic': {'prescript': {'hyper': 'soft', 'myope': 'no lenses'}}}},\n",
       "    'yes': {'prescript': {'hyper': {'age': {'young': 'hard',\n",
       "        'pre': 'no lenses',\n",
       "        'presbyopic': 'no lenses'}},\n",
       "      'myope': 'hard'}}}}}}"
      ]
     },
     "execution_count": 3,
     "metadata": {},
     "output_type": "execute_result"
    }
   ],
   "source": [
    "label = ['age', 'prescript', 'astigmatic', 'tear rate']  #数据集标签\n",
    "feature_label = label.copy()  #保留标签\n",
    "my_tree = create_tree(dataset, label)  #构造决策树\n",
    "my_tree"
   ]
  },
  {
   "cell_type": "code",
   "execution_count": 4,
   "id": "f6a8b445",
   "metadata": {
    "ExecuteTime": {
     "end_time": "2021-10-16T16:43:43.779709Z",
     "start_time": "2021-10-16T16:43:42.932369Z"
    }
   },
   "outputs": [
    {
     "data": {
      "image/png": "[encoded data removed]",
      "text/plain": [
       "<Figure size 720x720 with 1 Axes>"
      ]
     },
     "metadata": {},
     "output_type": "display_data"
    }
   ],
   "source": [
    "create_plot(my_tree)"
   ]
  },
  {
   "cell_type": "code",
   "execution_count": 5,
   "id": "e374d7b8",
   "metadata": {
    "ExecuteTime": {
     "end_time": "2021-10-16T16:43:43.795571Z",
     "start_time": "2021-10-16T16:43:43.783611Z"
    }
   },
   "outputs": [
    {
     "data": {
      "text/plain": [
       "('hard', 'no lenses')"
      ]
     },
     "execution_count": 5,
     "metadata": {},
     "output_type": "execute_result"
    }
   ],
   "source": [
    "# 输入两个测试数据，测试决策树\n",
    "test_vec1 = ['young', 'hyper', 'yes', 'normal']\n",
    "test_vec2 = ['pre', 'myope', 'yes', 'reduced']\n",
    "result1 = classify(my_tree, feature_label, test_vec1)\n",
    "result2 = classify(my_tree, feature_label, test_vec2)\n",
    "result1, result2"
   ]
  },
  {
   "cell_type": "markdown",
   "id": "766b9d67",
   "metadata": {},
   "source": [
    "#### **2 利用机器学习库sklearn中的决策树分类器DecisionTreeClassifier对Iris数据集进行交叉验证，测试其准确率。**\n"
   ]
  },
  {
   "cell_type": "code",
   "execution_count": 6,
   "id": "81debba7",
   "metadata": {
    "ExecuteTime": {
     "end_time": "2021-10-16T16:43:47.816726Z",
     "start_time": "2021-10-16T16:43:43.796602Z"
    }
   },
   "outputs": [
    {
     "ename": "NameError",
     "evalue": "name 'cross_val_score' is not defined",
     "output_type": "error",
     "traceback": [
      "\u001b[1;31m---------------------------------------------------------------------------\u001b[0m",
      "\u001b[1;31mNameError\u001b[0m                                 Traceback (most recent call last)",
      "\u001b[1;32m~\\AppData\\Local\\Temp/ipykernel_12236/3443800686.py\u001b[0m in \u001b[0;36m<module>\u001b[1;34m\u001b[0m\n\u001b[0;32m     25\u001b[0m \u001b[1;33m\u001b[0m\u001b[0m\n\u001b[0;32m     26\u001b[0m \u001b[1;31m# 交叉验证 ，取10个互补的子集\u001b[0m\u001b[1;33m\u001b[0m\u001b[1;33m\u001b[0m\u001b[1;33m\u001b[0m\u001b[0m\n\u001b[1;32m---> 27\u001b[1;33m \u001b[0mclf_s\u001b[0m \u001b[1;33m=\u001b[0m \u001b[0mcross_val_score\u001b[0m\u001b[1;33m(\u001b[0m\u001b[0mclf\u001b[0m\u001b[1;33m,\u001b[0m\u001b[0miris_dataset\u001b[0m\u001b[1;33m,\u001b[0m\u001b[0miris_target\u001b[0m\u001b[1;33m,\u001b[0m\u001b[0mcv\u001b[0m\u001b[1;33m=\u001b[0m\u001b[1;36m10\u001b[0m\u001b[1;33m)\u001b[0m\u001b[1;33m\u001b[0m\u001b[1;33m\u001b[0m\u001b[0m\n\u001b[0m\u001b[0;32m     28\u001b[0m \u001b[1;31m# 可视化结果\u001b[0m\u001b[1;33m\u001b[0m\u001b[1;33m\u001b[0m\u001b[1;33m\u001b[0m\u001b[0m\n\u001b[0;32m     29\u001b[0m \u001b[0mplt\u001b[0m\u001b[1;33m.\u001b[0m\u001b[0mplot\u001b[0m\u001b[1;33m(\u001b[0m\u001b[0mrange\u001b[0m\u001b[1;33m(\u001b[0m\u001b[1;36m1\u001b[0m\u001b[1;33m,\u001b[0m\u001b[1;36m11\u001b[0m\u001b[1;33m)\u001b[0m\u001b[1;33m,\u001b[0m\u001b[0mclf_s\u001b[0m\u001b[1;33m,\u001b[0m\u001b[0mlabel\u001b[0m \u001b[1;33m=\u001b[0m \u001b[1;34m\"Decision Tree\"\u001b[0m\u001b[1;33m)\u001b[0m\u001b[1;33m\u001b[0m\u001b[1;33m\u001b[0m\u001b[0m\n",
      "\u001b[1;31mNameError\u001b[0m: name 'cross_val_score' is not defined"
     ]
    }
   ],
   "source": [
    "from sklearn import datasets# 数据集\n",
    "from sklearn.model_selection import train_test_split# 训练集测试集分割模块\n",
    "from sklearn import tree# 分类器\n",
    "import graphviz # 绘制决策树\n",
    "from IPython.display import display,Image\n",
    "from six import StringIO\n",
    "import pydotplus\n",
    "\n",
    "# 读入数据集\n",
    "iris = datasets.load_iris()\n",
    "#读取特征\n",
    "iris_dataset = iris.data\n",
    "#读取结果\n",
    "iris_target = iris.target\n",
    "# 特征名称\n",
    "iris_feature = iris.feature_names\n",
    "# 类名\n",
    "iris_names = iris.target_names\n",
    "# # 分割数据集\n",
    "# test_rate = 0.3  # 测试集比例\n",
    "# x_train, x_test, y_train, y_test = train_test_split(iris_dataset,iris_target,test_size= test_rate)\n",
    "\n",
    "# 设置决策树分类器\n",
    "clf = tree.DecisionTreeClassifier(criterion=\"entropy\")\n",
    "\n",
    "# 交叉验证 ，取10个互补的子集\n",
    "clf_s = cross_val_score(clf,iris_dataset,iris_target,cv=10)\n",
    "# 可视化结果\n",
    "plt.plot(range(1,11),clf_s,label = \"Decision Tree\")\n",
    "plt.legend()\n",
    "plt.show()\n",
    "# 最终准确率取平均值\n",
    "print(\"模型测试集准确率为：\", np.mean(clf_s))\n",
    "\n",
    "\n",
    "# 绘制决策树模型\n",
    "clf.fit(iris_dataset,iris_target)\n",
    "dot_data=StringIO()\n",
    "clf_dot = tree.export_graphviz(clf,out_file= dot_data,feature_names= iris_feature,class_names= iris_names,filled= True,rounded= True)\n",
    "# 显示绘制的模型\n",
    "graph=pydotplus.graph_from_dot_data(dot_data.getvalue())\n",
    "display(Image(graph.create_png()))"
   ]
  },
  {
   "cell_type": "markdown",
   "id": "0903f6af",
   "metadata": {},
   "source": [
    "#### **3 利用机器学习库sklearn中的随机森林分类器RandomForestClassifier对Iris数据集进行交叉验证，测试其准确率。**"
   ]
  },
  {
   "cell_type": "code",
   "execution_count": null,
   "id": "2f3962f1",
   "metadata": {
    "ExecuteTime": {
     "end_time": "2021-10-16T16:43:47.818687Z",
     "start_time": "2021-10-16T16:43:47.818687Z"
    }
   },
   "outputs": [],
   "source": [
    "from sklearn.ensemble import RandomForestClassifier  # 导入随机森林分类器\n",
    "from sklearn.model_selection import train_test_split  # 训练集测试集分割模块\n",
    "from sklearn.preprocessing import StandardScaler  # 数据的标准化\n",
    "import numpy as np\n",
    "from sklearn import datasets  # 数据集\n",
    "import graphviz  # 绘制决策树\n",
    "from sklearn.model_selection import cross_val_score\n",
    "from sklearn.tree import DecisionTreeClassifier\n",
    "import matplotlib.pyplot as plt\n",
    "# 读入数据集\n",
    "iris = datasets.load_iris()\n",
    "#读取特征\n",
    "iris_dataset = iris.data\n",
    "#读取标签\n",
    "iris_target = iris.target\n",
    "# 特征名称\n",
    "iris_feature = iris.feature_names\n",
    "# 类名\n",
    "iris_names = iris.target_names\n",
    "\n",
    "# 设置决策树分类器\n",
    "clf = RandomForestClassifier()\n",
    "# 进行10次循环，每次利用交叉验证的方式，最后取平均值\n",
    "rfc_l = []\n",
    "clf_l = []\n",
    "for i in range(10):\n",
    "    rfc = RandomForestClassifier(n_estimators=25)\n",
    "    rfc_s = cross_val_score(rfc, iris_dataset, iris_target, cv=10).mean()\n",
    "    rfc_l.append(rfc_s)\n",
    "    clf = DecisionTreeClassifier()\n",
    "    clf_s = cross_val_score(clf, iris_dataset, iris_target, cv=10).mean()\n",
    "    clf_l.append(clf_s)\n",
    "plt.plot(range(1, 11), rfc_l, label=\"Random Forest\")\n",
    "plt.plot(range(1, 11), clf_l, label=\"Decision Tree\")\n",
    "plt.legend()\n",
    "plt.show()\n",
    "\n",
    "print(\"模型测试集准确率为：\", np.mean(rfc_l))"
   ]
  },
  {
   "cell_type": "markdown",
   "id": "cc93d450",
   "metadata": {},
   "source": [
    "# PartII：使用朴素贝叶斯过滤垃圾邮件"
   ]
  },
  {
   "cell_type": "markdown",
   "id": "daea2119",
   "metadata": {},
   "source": [
    "#### **4 垃圾邮件过滤。**\n",
    "使用email文件夹下spam文件夹(垃圾邮件)和ham文件夹（正常邮件）的共50个邮件，\n",
    "\n",
    "采用交叉验证的方式，随机选取10个文件作为测试数据，其他作为训练数据，\n",
    "\n",
    "采用朴素贝叶斯进行垃圾邮件的分类。计算多次迭代后的平均错误率"
   ]
  },
  {
   "cell_type": "code",
   "execution_count": null,
   "id": "8cd339b1",
   "metadata": {
    "ExecuteTime": {
     "end_time": "2021-10-16T16:43:47.819681Z",
     "start_time": "2021-10-16T16:43:47.819681Z"
    },
    "code_folding": [
     5,
     11,
     17,
     24,
     43,
     51
    ]
   },
   "outputs": [],
   "source": [
    "import re\n",
    "import random\n",
    "from numpy import *\n",
    "\n",
    "'''输入字符串，输出小写单词列表'''\n",
    "def text_parse(big_string):\n",
    "    list_of_tokens = re.split(r'\\W+', big_string)\n",
    "    # 书中用的是\\W*，用这个来切分文本时发现，将文本切成了一个字母一个字母的样子，并没有完整的单词\n",
    "    return [tok.lower() for tok in list_of_tokens\n",
    "            if len(tok) > 2]  #去掉少于两个字符的单词，并把单词全部变为小写，返回单词列表\n",
    "'''去除单词列表中的重复项，生成词汇表'''\n",
    "def create_vocab_list(data_set):\n",
    "    vocab_set = set([])  #空集合\n",
    "    for document in data_set:\n",
    "        vocab_set = vocab_set | set(document)  #求两个集合的并集\n",
    "    return list(vocab_set)\n",
    "'''基于词袋模型的朴素贝叶斯,输出向量包含每个词出现的次数'''\n",
    "def bag_of_words_2_vecMN(vocab_list, input_set):\n",
    "    return_vec = [0] * len(vocab_list)\n",
    "    for word in input_set:\n",
    "        if word in vocab_list:\n",
    "            return_vec[vocab_list.index(word)] += 1\n",
    "    return return_vec\n",
    "'''朴素贝叶斯分类器训练'''\n",
    "def train_naive_bayes(train_matrix, train_category):\n",
    "    num_train_docs = len(train_matrix)\n",
    "    num_words = len(train_matrix[0])\n",
    "    p_spam = sum(train_category) / float(num_train_docs)  # 计算文档属于spam的概率\n",
    "    p0_num = ones(num_words)  # 分子\n",
    "    p1_num = ones(num_words)\n",
    "    p0_denom = 2.0  # 分母\n",
    "    p1_denom = 2.0  \n",
    "    for i in range(num_train_docs):\n",
    "        if train_category[i] == 1:\n",
    "            p1_num += train_matrix[i]\n",
    "            p1_denom += sum(train_matrix[i])\n",
    "        else:\n",
    "            p0_num += train_matrix[i]\n",
    "            p0_denom += sum(train_matrix[i])\n",
    "    p1_vect = log(p1_num / p1_denom)  #change to log()\n",
    "    p0_vect = log(p0_num / p0_denom)  #change to log()\n",
    "    return p0_vect, p1_vect, p_spam\n",
    "'''朴素贝叶斯分类函数'''\n",
    "def classify_naive_bayes(vec_2_classify, p0_vec, p1_vec, p_class1):\n",
    "    p1 = sum(vec_2_classify * p1_vec) + log(p_class1)  #element-wise mult\n",
    "    p0 = sum(vec_2_classify * p0_vec) + log(1.0 - p_class1)\n",
    "    if p1 > p0:\n",
    "        return 1\n",
    "    else:\n",
    "        return 0\n",
    "'''邮件分分类主函数'''\n",
    "def spam_classify():\n",
    "    #首先导入，解析文本\n",
    "    doc_list = []\n",
    "    class_list = []\n",
    "    full_text = []\n",
    "    for i in range(1, 26):  # spam 与 ham分别共25封，设置1~26\n",
    "        word_list = text_parse(open('email/spam/%d.txt' %\n",
    "                                    i).read())  #读取txt，返回小写单词列表\n",
    "        doc_list.append(word_list)  # append ：加入列表对象\n",
    "        full_text.extend(word_list)  # extend：wordlist中的单词扩展入full_data\n",
    "        class_list.append(1)  # 1代表垃圾邮件\n",
    "        word_list = text_parse(open('email/ham/%d.txt' % i).read())\n",
    "        doc_list.append(word_list)\n",
    "        full_text.extend(word_list)\n",
    "        class_list.append(0)  # 0代表正常邮件\n",
    "    vocab_list = create_vocab_list(doc_list)  #生成词汇表，包含50封邮件所有词汇（>2个字母，小写）\n",
    "    training_set = list(range(50))  #python2 -> python3 需要修改，训练集（邮件序号）\n",
    "    test_set = []  #测试集（邮件序号）\n",
    "    for i in range(10):\n",
    "        rand_index = int(random.uniform(0, len(training_set)))  #随机取10封邮件作为测试集\n",
    "        test_set.append(training_set[rand_index])\n",
    "        del (training_set[rand_index])\n",
    "    train_mat = []\n",
    "    train_classes = []\n",
    "    for doc_index in training_set:  #训练分类器\n",
    "        train_mat.append(bag_of_words_2_vecMN(vocab_list, doc_list[doc_index]))\n",
    "        train_classes.append(class_list[doc_index])\n",
    "    p0v, p1v, p_spam = train_naive_bayes(array(train_mat),\n",
    "                                         array(train_classes))\n",
    "    error_count = 0\n",
    "    for doc_index in test_set:  #进行测试\n",
    "        word_vector = bag_of_words_2_vecMN(vocab_list, doc_list[doc_index])\n",
    "        if classify_naive_bayes(array(word_vector), p0v, p1v,\n",
    "                                p_spam) != class_list[doc_index]:\n",
    "            error_count += 1\n",
    "    return float(error_count) / len(test_set)"
   ]
  },
  {
   "cell_type": "code",
   "execution_count": null,
   "id": "fedd35a0",
   "metadata": {
    "ExecuteTime": {
     "end_time": "2021-10-16T16:43:47.820678Z",
     "start_time": "2021-10-16T16:43:47.820678Z"
    }
   },
   "outputs": [],
   "source": [
    "'''单次测试'''\n",
    "error = spam_classify()\n",
    "print('分类错误率 = ' + str(error))"
   ]
  },
  {
   "cell_type": "code",
   "execution_count": null,
   "id": "3ceb4ac9",
   "metadata": {
    "ExecuteTime": {
     "end_time": "2021-10-16T16:43:47.822684Z",
     "start_time": "2021-10-16T16:43:47.822684Z"
    }
   },
   "outputs": [],
   "source": [
    "'''多次迭代重复计算错误率 '''\n",
    "size  = 100 #迭代次数\n",
    "err = [] #存放每次的错误率\n",
    "for i in range(size):\n",
    "    err.append(spam_classify())\n",
    "error_rate = average(err)\n",
    "print('多次迭代后平均分类错误率 = ' + str(error_rate)) "
   ]
  },
  {
   "cell_type": "markdown",
   "id": "667b9f8a",
   "metadata": {},
   "source": [
    "#### **5 采用sklearn中的MultinomialNB朴素贝叶斯算法对sklearn的datasets中自带的digits数据集进行分类，测试分类效果。**"
   ]
  },
  {
   "cell_type": "code",
   "execution_count": null,
   "id": "564c4401",
   "metadata": {
    "ExecuteTime": {
     "end_time": "2021-10-16T16:43:47.823672Z",
     "start_time": "2021-10-16T16:43:47.823672Z"
    }
   },
   "outputs": [],
   "source": [
    "import numpy as np\n",
    "import matplotlib.pyplot as plt\n",
    "from sklearn.naive_bayes import MultinomialNB\n",
    "from sklearn.datasets import load_digits\n",
    "from sklearn.model_selection import train_test_split\n",
    "from sklearn.model_selection import cross_val_score\n",
    "#载入digits数据集\n",
    "digits = load_digits()\n",
    "# 读取数据集，\n",
    "digits_data, dagits_target = digits.data, digits.target\n",
    "# 分割数据集\n",
    "test_rate = 0.3 # 测试集比例\n",
    "x_train,x_test,y_train,y_test = train_test_split(digits_data,dagits_target,test_size=test_rate)\n",
    "\n",
    "# 设置MultinomialNB朴素贝叶斯分类器\n",
    "clf = MultinomialNB()\n",
    "# 训练模型\n",
    "clf.fit(x_train, y_train)\n",
    "# 评价模型\n",
    "score = clf.score(x_test, y_test)\n",
    "print(\"模型测试集准确率为：\", score)"
   ]
  },
  {
   "cell_type": "code",
   "execution_count": null,
   "id": "e6131adc",
   "metadata": {
    "ExecuteTime": {
     "end_time": "2021-10-16T16:43:47.824670Z",
     "start_time": "2021-10-16T16:43:47.824670Z"
    }
   },
   "outputs": [],
   "source": [
    "'''测试 MultinomialNB 的预测性能随测试集所占比的变化'''\n",
    "def test_MultinomialNB():\n",
    "    # 分割数据集\n",
    "    test_rate=np.linspace(0.002,0.998,num=480)\n",
    "\n",
    "    train_scores=[]\n",
    "    test_scores=[]\n",
    "    for i in test_rate:\n",
    "        x_train,x_test,y_train,y_test = train_test_split(digits_data,dagits_target,test_size=i)\n",
    "        cls=MultinomialNB()\n",
    "        cls.fit(x_train,y_train)\n",
    "        test_scores.append(cls.score(x_test, y_test))\n",
    "\n",
    "    ## 绘图\n",
    "    fig=plt.figure()\n",
    "    ax=fig.add_subplot(1,1,1)\n",
    "    ax.plot(test_rate,test_scores,label=\"Testing Score\")\n",
    "    ax.set_xlabel(\"test_rate\")\n",
    "    ax.set_ylabel(\"score\")\n",
    "    ax.set_ylim(0,1.0)\n",
    "    ax.set_title(\"MultinomialNB\")\n",
    "    plt.show()\n",
    "    \n",
    "# 调用 test_MultinomialNB\n",
    "test_MultinomialNB()"
   ]
  }
 ],
 "metadata": {
  "kernelspec": {
   "display_name": "Python 3 (ipykernel)",
   "language": "python",
   "name": "python3"
  },
  "language_info": {
   "codemirror_mode": {
    "name": "ipython",
    "version": 3
   },
   "file_extension": ".py",
   "mimetype": "text/x-python",
   "name": "python",
   "nbconvert_exporter": "python",
   "pygments_lexer": "ipython3",
   "version": "3.8.5"
  },
  "varInspector": {
   "cols": {
    "lenName": 16,
    "lenType": 16,
    "lenVar": 40
   },
   "kernels_config": {
    "python": {
     "delete_cmd_postfix": "",
     "delete_cmd_prefix": "del ",
     "library": "var_list.py",
     "varRefreshCmd": "print(var_dic_list())"
    },
    "r": {
     "delete_cmd_postfix": ") ",
     "delete_cmd_prefix": "rm(",
     "library": "var_list.r",
     "varRefreshCmd": "cat(var_dic_list()) "
    }
   },
   "position": {
    "height": "581.997px",
    "left": "1387.99px",
    "right": "20px",
    "top": "40.9826px",
    "width": "681.771px"
   },
   "types_to_exclude": [
    "module",
    "function",
    "builtin_function_or_method",
    "instance",
    "_Feature"
   ],
   "window_display": false
  }
 },
 "nbformat": 4,
 "nbformat_minor": 5
}
